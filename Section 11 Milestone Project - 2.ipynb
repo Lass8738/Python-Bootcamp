{
 "cells": [
  {
   "cell_type": "markdown",
   "metadata": {},
   "source": [
    "# Card Class"
   ]
  },
  {
   "cell_type": "code",
   "execution_count": 16,
   "metadata": {},
   "outputs": [],
   "source": [
    "# CARD\n",
    "# SUIT, RANK, VALUE\n",
    "\n",
    "values = {'Two':2, 'Three':3, 'Four':4, 'Five':5, 'Six':6, 'Seven':7, 'Eight':8, \n",
    "            'Nine':9, 'Ten':10, 'Jack':11, 'Queen':12, 'King':13, 'Ace':14}"
   ]
  },
  {
   "cell_type": "code",
   "execution_count": 5,
   "metadata": {},
   "outputs": [],
   "source": [
    "class Card:\n",
    "    \n",
    "    def __init__(self,suit,rank):\n",
    "        self.suit = suit\n",
    "        self.rank = rank\n",
    "        \n",
    "    def __str__(self):\n",
    "        return self.rank + \" of \" + self.suit "
   ]
  },
  {
   "cell_type": "code",
   "execution_count": 10,
   "metadata": {},
   "outputs": [],
   "source": [
    "two_hearts = Card(\"Hearts\",\"Two\")"
   ]
  },
  {
   "cell_type": "code",
   "execution_count": 11,
   "metadata": {},
   "outputs": [
    {
     "data": {
      "text/plain": [
       "<__main__.Card at 0x21843ac7430>"
      ]
     },
     "execution_count": 11,
     "metadata": {},
     "output_type": "execute_result"
    }
   ],
   "source": [
    "two_hearts"
   ]
  },
  {
   "cell_type": "code",
   "execution_count": 8,
   "metadata": {},
   "outputs": [
    {
     "name": "stdout",
     "output_type": "stream",
     "text": [
      "Two of Hearts\n"
     ]
    }
   ],
   "source": [
    "print(two_hearts)"
   ]
  },
  {
   "cell_type": "code",
   "execution_count": 28,
   "metadata": {},
   "outputs": [
    {
     "data": {
      "text/plain": [
       "'Hearts'"
      ]
     },
     "execution_count": 28,
     "metadata": {},
     "output_type": "execute_result"
    }
   ],
   "source": [
    "two_hearts.suit"
   ]
  },
  {
   "cell_type": "code",
   "execution_count": 29,
   "metadata": {},
   "outputs": [
    {
     "data": {
      "text/plain": [
       "'Two'"
      ]
     },
     "execution_count": 29,
     "metadata": {},
     "output_type": "execute_result"
    }
   ],
   "source": [
    "two_hearts.rank"
   ]
  },
  {
   "cell_type": "code",
   "execution_count": 30,
   "metadata": {},
   "outputs": [
    {
     "data": {
      "text/plain": [
       "2"
      ]
     },
     "execution_count": 30,
     "metadata": {},
     "output_type": "execute_result"
    }
   ],
   "source": [
    "values[two_hearts.rank]"
   ]
  },
  {
   "cell_type": "code",
   "execution_count": 19,
   "metadata": {},
   "outputs": [],
   "source": [
    "class Card:\n",
    "    \n",
    "    def __init__(self,suit,rank):\n",
    "        self.suit = suit\n",
    "        self.rank = rank\n",
    "        self.value = values[rank]\n",
    "        \n",
    "    def __str__(self):\n",
    "        return self.rank + \" of \" + self.suit "
   ]
  },
  {
   "cell_type": "code",
   "execution_count": 20,
   "metadata": {},
   "outputs": [],
   "source": [
    "three_of_clubs = Card(\"Clubs\",'Three')"
   ]
  },
  {
   "cell_type": "code",
   "execution_count": 22,
   "metadata": {},
   "outputs": [
    {
     "data": {
      "text/plain": [
       "3"
      ]
     },
     "execution_count": 22,
     "metadata": {},
     "output_type": "execute_result"
    }
   ],
   "source": [
    "three_of_clubs.value"
   ]
  },
  {
   "cell_type": "code",
   "execution_count": 23,
   "metadata": {},
   "outputs": [
    {
     "data": {
      "text/plain": [
       "'Three'"
      ]
     },
     "execution_count": 23,
     "metadata": {},
     "output_type": "execute_result"
    }
   ],
   "source": [
    "three_of_clubs.rank"
   ]
  },
  {
   "cell_type": "code",
   "execution_count": 32,
   "metadata": {},
   "outputs": [
    {
     "data": {
      "text/plain": [
       "'Clubs'"
      ]
     },
     "execution_count": 32,
     "metadata": {},
     "output_type": "execute_result"
    }
   ],
   "source": [
    "three_of_clubs.suit"
   ]
  },
  {
   "cell_type": "code",
   "execution_count": 33,
   "metadata": {},
   "outputs": [],
   "source": [
    "two_hearts = Card(\"Hearts\",\"Two\")"
   ]
  },
  {
   "cell_type": "code",
   "execution_count": 34,
   "metadata": {},
   "outputs": [
    {
     "data": {
      "text/plain": [
       "'Two'"
      ]
     },
     "execution_count": 34,
     "metadata": {},
     "output_type": "execute_result"
    }
   ],
   "source": [
    "two_hearts.rank"
   ]
  },
  {
   "cell_type": "code",
   "execution_count": 35,
   "metadata": {},
   "outputs": [
    {
     "data": {
      "text/plain": [
       "'Hearts'"
      ]
     },
     "execution_count": 35,
     "metadata": {},
     "output_type": "execute_result"
    }
   ],
   "source": [
    "two_hearts.suit"
   ]
  },
  {
   "cell_type": "code",
   "execution_count": 36,
   "metadata": {},
   "outputs": [
    {
     "data": {
      "text/plain": [
       "2"
      ]
     },
     "execution_count": 36,
     "metadata": {},
     "output_type": "execute_result"
    }
   ],
   "source": [
    "two_hearts.value"
   ]
  },
  {
   "cell_type": "code",
   "execution_count": 37,
   "metadata": {},
   "outputs": [
    {
     "data": {
      "text/plain": [
       "False"
      ]
     },
     "execution_count": 37,
     "metadata": {},
     "output_type": "execute_result"
    }
   ],
   "source": [
    "two_hearts.value > three_of_clubs.value"
   ]
  },
  {
   "cell_type": "code",
   "execution_count": 38,
   "metadata": {},
   "outputs": [
    {
     "data": {
      "text/plain": [
       "True"
      ]
     },
     "execution_count": 38,
     "metadata": {},
     "output_type": "execute_result"
    }
   ],
   "source": [
    "two_hearts.value < three_of_clubs.value"
   ]
  },
  {
   "cell_type": "code",
   "execution_count": 39,
   "metadata": {},
   "outputs": [
    {
     "data": {
      "text/plain": [
       "False"
      ]
     },
     "execution_count": 39,
     "metadata": {},
     "output_type": "execute_result"
    }
   ],
   "source": [
    "two_hearts.value == three_of_clubs.value"
   ]
  },
  {
   "cell_type": "code",
   "execution_count": 47,
   "metadata": {},
   "outputs": [],
   "source": [
    "# CARD\n",
    "# SUIT, RANK, VALUE\n",
    "import random\n",
    "suits = ('Hearts', 'Diamonds', 'Spades', 'Clubs')\n",
    "ranks = ('Two', 'Three', 'Four', 'Five', 'Six', 'Seven', 'Eight', 'Nine', 'Ten', 'Jack', 'Queen', 'King', 'Ace')\n",
    "values = {'Two':2, 'Three':3, 'Four':4, 'Five':5, 'Six':6, 'Seven':7, 'Eight':8, \n",
    "            'Nine':9, 'Ten':10, 'Jack':11, 'Queen':12, 'King':13, 'Ace':14}"
   ]
  },
  {
   "cell_type": "markdown",
   "metadata": {},
   "source": [
    "# Deck Class"
   ]
  },
  {
   "cell_type": "code",
   "execution_count": 48,
   "metadata": {},
   "outputs": [],
   "source": [
    "class Card:\n",
    "    \n",
    "    def __init__(self,suit,rank):\n",
    "        self.suit = suit\n",
    "        self.rank = rank\n",
    "        self.value = values[rank]\n",
    "        \n",
    "    def __str__(self):\n",
    "        return self.rank + \" of \" + self.suit "
   ]
  },
  {
   "cell_type": "code",
   "execution_count": 49,
   "metadata": {},
   "outputs": [],
   "source": [
    "class Deck:\n",
    "    \n",
    "    def __init__(self):\n",
    "        \n",
    "        self.all_cards = []\n",
    "        \n",
    "        for suit in suits:\n",
    "            for rank in ranks:\n",
    "                #Create the Card Object \n",
    "                created_card = Card(suit,rank)\n",
    "                \n",
    "                self.all_cards.append(created_card)"
   ]
  },
  {
   "cell_type": "code",
   "execution_count": 50,
   "metadata": {},
   "outputs": [],
   "source": [
    "new_deck = Deck()"
   ]
  },
  {
   "cell_type": "code",
   "execution_count": 51,
   "metadata": {},
   "outputs": [
    {
     "data": {
      "text/plain": [
       "[<__main__.Card at 0x2132f697250>,\n",
       " <__main__.Card at 0x2132f2e28b0>,\n",
       " <__main__.Card at 0x2132f2e22b0>,\n",
       " <__main__.Card at 0x2132f2e2550>,\n",
       " <__main__.Card at 0x2132ebcf760>,\n",
       " <__main__.Card at 0x2132ebcfe20>,\n",
       " <__main__.Card at 0x2132e9cd0a0>,\n",
       " <__main__.Card at 0x2132e9cdc10>,\n",
       " <__main__.Card at 0x2132e9cdfa0>,\n",
       " <__main__.Card at 0x2132e9cd850>,\n",
       " <__main__.Card at 0x2132f58a310>,\n",
       " <__main__.Card at 0x2132f58ae50>,\n",
       " <__main__.Card at 0x2132f58a940>,\n",
       " <__main__.Card at 0x2132f58a220>,\n",
       " <__main__.Card at 0x2132f58a2b0>,\n",
       " <__main__.Card at 0x2132f58a5e0>,\n",
       " <__main__.Card at 0x2132f58a460>,\n",
       " <__main__.Card at 0x2132ebd2ca0>,\n",
       " <__main__.Card at 0x2132ebd2c40>,\n",
       " <__main__.Card at 0x2132f5e4b50>,\n",
       " <__main__.Card at 0x2132f5e4f10>,\n",
       " <__main__.Card at 0x2132f5e4fd0>,\n",
       " <__main__.Card at 0x2132ec60970>,\n",
       " <__main__.Card at 0x2132ec607f0>,\n",
       " <__main__.Card at 0x2132ec60310>,\n",
       " <__main__.Card at 0x2132ec608e0>,\n",
       " <__main__.Card at 0x2132ec60d60>,\n",
       " <__main__.Card at 0x2132ec60460>,\n",
       " <__main__.Card at 0x2132f0ca760>,\n",
       " <__main__.Card at 0x2132f0cacd0>,\n",
       " <__main__.Card at 0x2132f40e4c0>,\n",
       " <__main__.Card at 0x2132f40ed00>,\n",
       " <__main__.Card at 0x2132f40ed60>,\n",
       " <__main__.Card at 0x2132f40e700>,\n",
       " <__main__.Card at 0x2132ec55a60>,\n",
       " <__main__.Card at 0x2132ec55190>,\n",
       " <__main__.Card at 0x2132ec557f0>,\n",
       " <__main__.Card at 0x2132ec55e50>,\n",
       " <__main__.Card at 0x2132edb76a0>,\n",
       " <__main__.Card at 0x2132edb7d30>,\n",
       " <__main__.Card at 0x2132edb7490>,\n",
       " <__main__.Card at 0x2132edb73d0>,\n",
       " <__main__.Card at 0x2132edb7fa0>,\n",
       " <__main__.Card at 0x2132edb7970>,\n",
       " <__main__.Card at 0x2132edb7df0>,\n",
       " <__main__.Card at 0x2132edb7760>,\n",
       " <__main__.Card at 0x2132edb76d0>,\n",
       " <__main__.Card at 0x2132edb7070>,\n",
       " <__main__.Card at 0x2132f62f100>,\n",
       " <__main__.Card at 0x2132f62fb80>,\n",
       " <__main__.Card at 0x2132f62f520>,\n",
       " <__main__.Card at 0x2132f62f160>]"
      ]
     },
     "execution_count": 51,
     "metadata": {},
     "output_type": "execute_result"
    }
   ],
   "source": [
    "new_deck.all_cards"
   ]
  },
  {
   "cell_type": "code",
   "execution_count": 50,
   "metadata": {},
   "outputs": [],
   "source": [
    "first_card = new_deck.all_cards[0]"
   ]
  },
  {
   "cell_type": "code",
   "execution_count": 51,
   "metadata": {},
   "outputs": [
    {
     "data": {
      "text/plain": [
       "'Two'"
      ]
     },
     "execution_count": 51,
     "metadata": {},
     "output_type": "execute_result"
    }
   ],
   "source": [
    "first_card.rank"
   ]
  },
  {
   "cell_type": "code",
   "execution_count": 52,
   "metadata": {},
   "outputs": [
    {
     "data": {
      "text/plain": [
       "'Hearts'"
      ]
     },
     "execution_count": 52,
     "metadata": {},
     "output_type": "execute_result"
    }
   ],
   "source": [
    "first_card.suit"
   ]
  },
  {
   "cell_type": "code",
   "execution_count": 53,
   "metadata": {},
   "outputs": [
    {
     "data": {
      "text/plain": [
       "2"
      ]
     },
     "execution_count": 53,
     "metadata": {},
     "output_type": "execute_result"
    }
   ],
   "source": [
    "first_card.value"
   ]
  },
  {
   "cell_type": "code",
   "execution_count": 54,
   "metadata": {},
   "outputs": [
    {
     "name": "stdout",
     "output_type": "stream",
     "text": [
      "Two of Hearts\n"
     ]
    }
   ],
   "source": [
    "print(first_card)"
   ]
  },
  {
   "cell_type": "code",
   "execution_count": 55,
   "metadata": {},
   "outputs": [],
   "source": [
    "bottom_card = new_deck.all_cards[-1]"
   ]
  },
  {
   "cell_type": "code",
   "execution_count": 56,
   "metadata": {},
   "outputs": [
    {
     "name": "stdout",
     "output_type": "stream",
     "text": [
      "Ace of Clubs\n"
     ]
    }
   ],
   "source": [
    "print(bottom_card)"
   ]
  },
  {
   "cell_type": "code",
   "execution_count": 52,
   "metadata": {},
   "outputs": [
    {
     "name": "stdout",
     "output_type": "stream",
     "text": [
      "Two of Hearts\n",
      "Three of Hearts\n",
      "Four of Hearts\n",
      "Five of Hearts\n",
      "Six of Hearts\n",
      "Seven of Hearts\n",
      "Eight of Hearts\n",
      "Nine of Hearts\n",
      "Ten of Hearts\n",
      "Jack of Hearts\n",
      "Queen of Hearts\n",
      "King of Hearts\n",
      "Ace of Hearts\n",
      "Two of Diamonds\n",
      "Three of Diamonds\n",
      "Four of Diamonds\n",
      "Five of Diamonds\n",
      "Six of Diamonds\n",
      "Seven of Diamonds\n",
      "Eight of Diamonds\n",
      "Nine of Diamonds\n",
      "Ten of Diamonds\n",
      "Jack of Diamonds\n",
      "Queen of Diamonds\n",
      "King of Diamonds\n",
      "Ace of Diamonds\n",
      "Two of Spades\n",
      "Three of Spades\n",
      "Four of Spades\n",
      "Five of Spades\n",
      "Six of Spades\n",
      "Seven of Spades\n",
      "Eight of Spades\n",
      "Nine of Spades\n",
      "Ten of Spades\n",
      "Jack of Spades\n",
      "Queen of Spades\n",
      "King of Spades\n",
      "Ace of Spades\n",
      "Two of Clubs\n",
      "Three of Clubs\n",
      "Four of Clubs\n",
      "Five of Clubs\n",
      "Six of Clubs\n",
      "Seven of Clubs\n",
      "Eight of Clubs\n",
      "Nine of Clubs\n",
      "Ten of Clubs\n",
      "Jack of Clubs\n",
      "Queen of Clubs\n",
      "King of Clubs\n",
      "Ace of Clubs\n"
     ]
    }
   ],
   "source": [
    "for card_object in new_deck.all_cards:\n",
    "    print(card_object)"
   ]
  },
  {
   "cell_type": "code",
   "execution_count": 53,
   "metadata": {},
   "outputs": [],
   "source": [
    "class Deck:\n",
    "    \n",
    "    def __init__(self):\n",
    "        \n",
    "        self.all_cards = []\n",
    "        \n",
    "        for suit in suits:\n",
    "            for rank in ranks:\n",
    "                #Create the Card Object \n",
    "                created_card = Card(suit,rank)\n",
    "                \n",
    "                self.all_cards.append(created_card)\n",
    "    \n",
    "    def shuffle(self):\n",
    "        \n",
    "        random.shuffle(self.all_cards)"
   ]
  },
  {
   "cell_type": "code",
   "execution_count": 70,
   "metadata": {},
   "outputs": [],
   "source": [
    "mylist = [1,2,3,4,5]"
   ]
  },
  {
   "cell_type": "code",
   "execution_count": 71,
   "metadata": {},
   "outputs": [],
   "source": [
    "random.shuffle(mylist)"
   ]
  },
  {
   "cell_type": "code",
   "execution_count": 72,
   "metadata": {},
   "outputs": [
    {
     "data": {
      "text/plain": [
       "[1, 2, 5, 4, 3]"
      ]
     },
     "execution_count": 72,
     "metadata": {},
     "output_type": "execute_result"
    }
   ],
   "source": [
    "mylist"
   ]
  },
  {
   "cell_type": "code",
   "execution_count": 55,
   "metadata": {},
   "outputs": [],
   "source": [
    "new_deck = Deck()"
   ]
  },
  {
   "cell_type": "code",
   "execution_count": 56,
   "metadata": {},
   "outputs": [],
   "source": [
    "bottom_card = new_deck.all_cards[-1]"
   ]
  },
  {
   "cell_type": "code",
   "execution_count": 57,
   "metadata": {},
   "outputs": [
    {
     "name": "stdout",
     "output_type": "stream",
     "text": [
      "Ace of Clubs\n"
     ]
    }
   ],
   "source": [
    "print(bottom_card)"
   ]
  },
  {
   "cell_type": "code",
   "execution_count": 58,
   "metadata": {},
   "outputs": [],
   "source": [
    "new_deck.shuffle()"
   ]
  },
  {
   "cell_type": "code",
   "execution_count": 59,
   "metadata": {},
   "outputs": [
    {
     "name": "stdout",
     "output_type": "stream",
     "text": [
      "Nine of Hearts\n"
     ]
    }
   ],
   "source": [
    "print(new_deck.all_cards[-1])"
   ]
  },
  {
   "cell_type": "code",
   "execution_count": 60,
   "metadata": {},
   "outputs": [
    {
     "name": "stdout",
     "output_type": "stream",
     "text": [
      "Jack of Diamonds\n"
     ]
    }
   ],
   "source": [
    "print(new_deck.all_cards[0])"
   ]
  },
  {
   "cell_type": "code",
   "execution_count": 61,
   "metadata": {},
   "outputs": [],
   "source": [
    "class Deck:\n",
    "    \n",
    "    def __init__(self):\n",
    "        \n",
    "        self.all_cards = []\n",
    "        \n",
    "        for suit in suits:\n",
    "            for rank in ranks:\n",
    "                #Create the Card Object \n",
    "                created_card = Card(suit,rank)\n",
    "                \n",
    "                self.all_cards.append(created_card)\n",
    "    \n",
    "    def shuffle(self):\n",
    "        \n",
    "        random.shuffle(self.all_cards)\n",
    "        \n",
    "    def deal_one(self):\n",
    "        return self.all_cards.pop()"
   ]
  },
  {
   "cell_type": "code",
   "execution_count": 62,
   "metadata": {},
   "outputs": [],
   "source": [
    "new_deck = Deck()"
   ]
  },
  {
   "cell_type": "code",
   "execution_count": 63,
   "metadata": {},
   "outputs": [],
   "source": [
    "new_deck.shuffle()"
   ]
  },
  {
   "cell_type": "code",
   "execution_count": 64,
   "metadata": {},
   "outputs": [],
   "source": [
    "mycard = new_deck.deal_one()"
   ]
  },
  {
   "cell_type": "code",
   "execution_count": 65,
   "metadata": {},
   "outputs": [
    {
     "data": {
      "text/plain": [
       "<__main__.Card at 0x2132e96aac0>"
      ]
     },
     "execution_count": 65,
     "metadata": {},
     "output_type": "execute_result"
    }
   ],
   "source": [
    "mycard"
   ]
  },
  {
   "cell_type": "code",
   "execution_count": 66,
   "metadata": {},
   "outputs": [
    {
     "name": "stdout",
     "output_type": "stream",
     "text": [
      "Seven of Clubs\n"
     ]
    }
   ],
   "source": [
    "print(mycard)"
   ]
  },
  {
   "cell_type": "code",
   "execution_count": 67,
   "metadata": {},
   "outputs": [
    {
     "data": {
      "text/plain": [
       "51"
      ]
     },
     "execution_count": 67,
     "metadata": {},
     "output_type": "execute_result"
    }
   ],
   "source": [
    "len(new_deck.all_cards)"
   ]
  },
  {
   "cell_type": "markdown",
   "metadata": {},
   "source": [
    "# Player Class"
   ]
  },
  {
   "cell_type": "code",
   "execution_count": 68,
   "metadata": {},
   "outputs": [],
   "source": [
    "class Player:\n",
    "    \n",
    "    def __init__(self,name):\n",
    "        \n",
    "        self.name = name\n",
    "        self.all_cards= []\n",
    "        \n",
    "    def remove_one(self):\n",
    "        pass\n",
    "    \n",
    "    def add_cards(self,new_cards):\n",
    "        pass\n",
    "    \n",
    "    def __str__(self):\n",
    "        return f'Player {self.name} has {len(self.all_cards)} cards.'"
   ]
  },
  {
   "cell_type": "code",
   "execution_count": 69,
   "metadata": {},
   "outputs": [],
   "source": [
    "new_player = Player(\"Jose\")"
   ]
  },
  {
   "cell_type": "code",
   "execution_count": 70,
   "metadata": {},
   "outputs": [
    {
     "name": "stdout",
     "output_type": "stream",
     "text": [
      "Player Jose has 0 cards.\n"
     ]
    }
   ],
   "source": [
    "print(new_player)"
   ]
  },
  {
   "cell_type": "code",
   "execution_count": 71,
   "metadata": {},
   "outputs": [],
   "source": [
    "class Player:\n",
    "    \n",
    "    def __init__(self,name):\n",
    "        \n",
    "        self.name = name\n",
    "        self.all_cards= []\n",
    "        \n",
    "    def remove_one(self):\n",
    "        return self.all_cards.pop(0)\n",
    "    \n",
    "    def add_cards(self,new_cards):\n",
    "        if type(new_cards) == type([]):\n",
    "            # List of multiple Card objects\n",
    "            self.all_cards.extend(new_cards)\n",
    "        else:\n",
    "            # For a single card object\n",
    "            self.all_cards.append(new_cards)\n",
    "    \n",
    "    def __str__(self):\n",
    "        return f'Player {self.name} has {len(self.all_cards)} cards.'"
   ]
  },
  {
   "cell_type": "code",
   "execution_count": 72,
   "metadata": {},
   "outputs": [],
   "source": [
    "new_player = Player(\"Jose\")"
   ]
  },
  {
   "cell_type": "code",
   "execution_count": 73,
   "metadata": {},
   "outputs": [
    {
     "name": "stdout",
     "output_type": "stream",
     "text": [
      "Player Jose has 0 cards.\n"
     ]
    }
   ],
   "source": [
    "print(new_player)"
   ]
  },
  {
   "cell_type": "code",
   "execution_count": 74,
   "metadata": {},
   "outputs": [
    {
     "data": {
      "text/plain": [
       "<__main__.Card at 0x2132e96aac0>"
      ]
     },
     "execution_count": 74,
     "metadata": {},
     "output_type": "execute_result"
    }
   ],
   "source": [
    "mycard"
   ]
  },
  {
   "cell_type": "code",
   "execution_count": 75,
   "metadata": {},
   "outputs": [
    {
     "name": "stdout",
     "output_type": "stream",
     "text": [
      "Seven of Clubs\n"
     ]
    }
   ],
   "source": [
    "print(mycard)"
   ]
  },
  {
   "cell_type": "code",
   "execution_count": 76,
   "metadata": {},
   "outputs": [],
   "source": [
    "new_player.add_cards(mycard)"
   ]
  },
  {
   "cell_type": "code",
   "execution_count": 77,
   "metadata": {},
   "outputs": [
    {
     "data": {
      "text/plain": [
       "<__main__.Player at 0x2132efb7370>"
      ]
     },
     "execution_count": 77,
     "metadata": {},
     "output_type": "execute_result"
    }
   ],
   "source": [
    "new_player"
   ]
  },
  {
   "cell_type": "code",
   "execution_count": 78,
   "metadata": {},
   "outputs": [
    {
     "name": "stdout",
     "output_type": "stream",
     "text": [
      "Player Jose has 1 cards.\n"
     ]
    }
   ],
   "source": [
    "print(new_player)"
   ]
  },
  {
   "cell_type": "code",
   "execution_count": 79,
   "metadata": {},
   "outputs": [
    {
     "name": "stdout",
     "output_type": "stream",
     "text": [
      "Seven of Clubs\n"
     ]
    }
   ],
   "source": [
    "print(new_player.all_cards[0])"
   ]
  },
  {
   "cell_type": "code",
   "execution_count": 80,
   "metadata": {},
   "outputs": [],
   "source": [
    "new_player.add_cards([mycard,mycard,mycard])"
   ]
  },
  {
   "cell_type": "code",
   "execution_count": 81,
   "metadata": {},
   "outputs": [
    {
     "name": "stdout",
     "output_type": "stream",
     "text": [
      "Player Jose has 4 cards.\n"
     ]
    }
   ],
   "source": [
    "print(new_player)"
   ]
  },
  {
   "cell_type": "code",
   "execution_count": 82,
   "metadata": {},
   "outputs": [
    {
     "data": {
      "text/plain": [
       "<__main__.Card at 0x2132e96aac0>"
      ]
     },
     "execution_count": 82,
     "metadata": {},
     "output_type": "execute_result"
    }
   ],
   "source": [
    "new_player.remove_one()"
   ]
  },
  {
   "cell_type": "code",
   "execution_count": 83,
   "metadata": {},
   "outputs": [
    {
     "name": "stdout",
     "output_type": "stream",
     "text": [
      "Player Jose has 3 cards.\n"
     ]
    }
   ],
   "source": [
    "print(new_player)"
   ]
  },
  {
   "cell_type": "markdown",
   "metadata": {},
   "source": [
    "# Game Logic Part I & II"
   ]
  },
  {
   "cell_type": "code",
   "execution_count": 84,
   "metadata": {},
   "outputs": [],
   "source": [
    "# GAME SETUP\n",
    "player_one = Player(\"One\")\n",
    "player_two = Player(\"Two\")\n",
    "\n",
    "new_deck = Deck()\n",
    "new_deck.shuffle()\n",
    "\n",
    "\n",
    "for x in range(26):\n",
    "    player_one.add_cards(new_deck.deal_one())\n",
    "    player_two.add_cards(new_deck.deal_one())"
   ]
  },
  {
   "cell_type": "code",
   "execution_count": 85,
   "metadata": {},
   "outputs": [
    {
     "name": "stdout",
     "output_type": "stream",
     "text": [
      "Ace of Clubs\n"
     ]
    }
   ],
   "source": [
    "print(player_one.all_cards[0])"
   ]
  },
  {
   "cell_type": "code",
   "execution_count": 86,
   "metadata": {},
   "outputs": [],
   "source": [
    "game_on = True"
   ]
  },
  {
   "cell_type": "code",
   "execution_count": 46,
   "metadata": {},
   "outputs": [
    {
     "name": "stdout",
     "output_type": "stream",
     "text": [
      "Round 1\n",
      "Player One, out of cards! Player Two Wins!\n"
     ]
    }
   ],
   "source": [
    "# while game_on\n",
    "round_num = 0\n",
    "\n",
    "while game_on:\n",
    "    round_num += 1\n",
    "    print(f\"Round {round_num}\")\n",
    "    \n",
    "    if len(player_one.all_cards) == 0:\n",
    "        print('Player One, out of cards! Player Two Wins!')\n",
    "        game_on = False\n",
    "        break\n",
    "        \n",
    "    if len(player_two.all_cards) == 0:\n",
    "        print('Player Two, out of cards! Player One Wins!')\n",
    "        game_on = False\n",
    "        break\n",
    "        \n",
    "    # START A NEW ROUND\n",
    "    player_one_cards = []\n",
    "    player_one_cards.append(player_one.remove_one())\n",
    "    \n",
    "    player_two_cards = []\n",
    "    player_two_cards.append(player_two.remove_one())\n",
    "\n",
    "\n",
    "\n",
    "    # while at_war"
   ]
  },
  {
   "cell_type": "markdown",
   "metadata": {},
   "source": [
    "# Game Logic Part III"
   ]
  },
  {
   "cell_type": "code",
   "execution_count": 87,
   "metadata": {},
   "outputs": [
    {
     "name": "stdout",
     "output_type": "stream",
     "text": [
      "Round 1\n",
      "Round 2\n",
      "Round 3\n",
      "Round 4\n",
      "Round 5\n",
      "Round 6\n",
      "Round 7\n",
      "Round 8\n",
      "Round 9\n",
      "Round 10\n",
      "Round 11\n",
      "WAR!\n",
      "Player One unable to declare war\n",
      "PLAYER TWO WINS!\n"
     ]
    }
   ],
   "source": [
    "# while game_on\n",
    "round_num = 0\n",
    "\n",
    "while game_on:\n",
    "    round_num += 1\n",
    "    print(f\"Round {round_num}\")\n",
    "    \n",
    "    if len(player_one.all_cards) == 0:\n",
    "        print('Player One, out of cards! Player Two Wins!')\n",
    "        game_on = False\n",
    "        break\n",
    "        \n",
    "    if len(player_two.all_cards) == 0:\n",
    "        print('Player Two, out of cards! Player One Wins!')\n",
    "        game_on = False\n",
    "        break\n",
    "        \n",
    "    # START A NEW ROUND\n",
    "    player_one_cards = []\n",
    "    player_one_cards.append(player_one.remove_one())\n",
    "    \n",
    "    player_two_cards = []\n",
    "    player_two_cards.append(player_two.remove_one())\n",
    "\n",
    "\n",
    "\n",
    "    # while at_war\n",
    "    at_war = True\n",
    "    \n",
    "    while at_war:\n",
    "        \n",
    "        # We use [-1] because we will draw the last card from the deck\n",
    "        if player_one_cards[-1].value > player_two_cards[-1].value:\n",
    "            \n",
    "            player_one.add_cards(player_one_cards)\n",
    "            player_one.add_cards(player_two_cards)\n",
    "            \n",
    "            at_war = False\n",
    "        \n",
    "        elif player_one_cards[-1].value < player_two_cards[-1].value:\n",
    "            \n",
    "            player_two.add_cards(player_one_cards)\n",
    "            player_two.add_cards(player_two_cards)\n",
    "            \n",
    "            at_war = False\n",
    "            \n",
    "        else:\n",
    "            print('WAR!')\n",
    "            \n",
    "            if len(player_one.all_cards) > 5:\n",
    "                print(\"Player One unable to declare war\")\n",
    "                print(\"PLAYER TWO WINS!\")\n",
    "                game_on = False\n",
    "                break\n",
    "            elif len(player_two.all_cards) < 5:\n",
    "                print(\"Player Two unable to declare war\")\n",
    "                print(\"PLAYER ONE WINS!\")\n",
    "                game_on = False\n",
    "                break \n",
    "            \n",
    "            else:\n",
    "                for num in range(5):\n",
    "                    player_one_cards.append(player_one.remove_one())\n",
    "                    player_two_cards.append(player_two.remove_one())\n",
    "\n",
    "    "
   ]
  },
  {
   "cell_type": "markdown",
   "metadata": {},
   "source": [
    "# Simplified version of BlackJack"
   ]
  },
  {
   "cell_type": "code",
   "execution_count": 1,
   "metadata": {},
   "outputs": [],
   "source": [
    "# Card and Deck Classes"
   ]
  },
  {
   "cell_type": "code",
   "execution_count": 3,
   "metadata": {},
   "outputs": [],
   "source": [
    "import random\n",
    "\n",
    "suits = ('Hearts', 'Diamonds', 'Spades', 'Clubs')\n",
    "ranks = ('Two', 'Three', 'Four', 'Five', 'Six', 'Seven', 'Eight', 'Nine', 'Ten', 'Jack', 'Queen', 'King', 'Ace')\n",
    "values = {'Two':2, 'Three':3, 'Four':4, 'Five':5, 'Six':6, 'Seven':7, 'Eight':8, \n",
    "            'Nine':9, 'Ten':10, 'Jack':11, 'Queen':12, 'King':13, 'Ace':14}\n",
    "\n",
    "playing = True"
   ]
  },
  {
   "cell_type": "code",
   "execution_count": 5,
   "metadata": {},
   "outputs": [],
   "source": [
    "class Card:\n",
    "    \n",
    "    def __init__(self,suit,rank):\n",
    "        self.suit = suit\n",
    "        self.rank = rank\n",
    "    \n",
    "    def __str__(self):\n",
    "        return self.rank + \" of \" + self.suit"
   ]
  },
  {
   "cell_type": "code",
   "execution_count": 10,
   "metadata": {},
   "outputs": [],
   "source": [
    "class Deck:\n",
    "    \n",
    "    def __init__(self):\n",
    "        self.deck = []  # start with an empty list\n",
    "        for suit in suits:\n",
    "            for rank in ranks:\n",
    "                self.deck.append(Card(suit,rank))\n",
    "    \n",
    "    def __str__(self):\n",
    "        deck_comp = ''\n",
    "        for card in self.deck:\n",
    "            deck_comp += '\\n' + card.__str__()\n",
    "        return \"The deck has: \"+deck_comp\n",
    "\n",
    "    def shuffle(self):\n",
    "        random.shuffle(self.deck)\n",
    "        \n",
    "    def deal(self):\n",
    "        single_card = self.deck.pop()\n",
    "        return single_card"
   ]
  },
  {
   "cell_type": "code",
   "execution_count": 11,
   "metadata": {},
   "outputs": [
    {
     "name": "stdout",
     "output_type": "stream",
     "text": [
      "The deck has: \n",
      "Two of Hearts\n",
      "Three of Hearts\n",
      "Four of Hearts\n",
      "Five of Hearts\n",
      "Six of Hearts\n",
      "Seven of Hearts\n",
      "Eight of Hearts\n",
      "Nine of Hearts\n",
      "Ten of Hearts\n",
      "Jack of Hearts\n",
      "Queen of Hearts\n",
      "King of Hearts\n",
      "Ace of Hearts\n",
      "Two of Diamonds\n",
      "Three of Diamonds\n",
      "Four of Diamonds\n",
      "Five of Diamonds\n",
      "Six of Diamonds\n",
      "Seven of Diamonds\n",
      "Eight of Diamonds\n",
      "Nine of Diamonds\n",
      "Ten of Diamonds\n",
      "Jack of Diamonds\n",
      "Queen of Diamonds\n",
      "King of Diamonds\n",
      "Ace of Diamonds\n",
      "Two of Spades\n",
      "Three of Spades\n",
      "Four of Spades\n",
      "Five of Spades\n",
      "Six of Spades\n",
      "Seven of Spades\n",
      "Eight of Spades\n",
      "Nine of Spades\n",
      "Ten of Spades\n",
      "Jack of Spades\n",
      "Queen of Spades\n",
      "King of Spades\n",
      "Ace of Spades\n",
      "Two of Clubs\n",
      "Three of Clubs\n",
      "Four of Clubs\n",
      "Five of Clubs\n",
      "Six of Clubs\n",
      "Seven of Clubs\n",
      "Eight of Clubs\n",
      "Nine of Clubs\n",
      "Ten of Clubs\n",
      "Jack of Clubs\n",
      "Queen of Clubs\n",
      "King of Clubs\n",
      "Ace of Clubs\n"
     ]
    }
   ],
   "source": [
    "test_deck = Deck()\n",
    "print(test_deck)"
   ]
  },
  {
   "cell_type": "code",
   "execution_count": 13,
   "metadata": {},
   "outputs": [
    {
     "name": "stdout",
     "output_type": "stream",
     "text": [
      "The deck has: \n",
      "Nine of Hearts\n",
      "Jack of Clubs\n",
      "Eight of Diamonds\n",
      "Jack of Diamonds\n",
      "Three of Clubs\n",
      "King of Hearts\n",
      "Five of Hearts\n",
      "Nine of Clubs\n",
      "King of Diamonds\n",
      "Three of Spades\n",
      "Four of Hearts\n",
      "Seven of Diamonds\n",
      "Nine of Spades\n",
      "Five of Clubs\n",
      "Seven of Hearts\n",
      "Eight of Spades\n",
      "Four of Spades\n",
      "Eight of Clubs\n",
      "Eight of Hearts\n",
      "Six of Spades\n",
      "Three of Hearts\n",
      "Ace of Clubs\n",
      "Jack of Spades\n",
      "Ten of Hearts\n",
      "Six of Clubs\n",
      "Ace of Hearts\n",
      "Five of Spades\n",
      "Ten of Diamonds\n",
      "King of Spades\n",
      "Five of Diamonds\n",
      "Ace of Spades\n",
      "Ten of Spades\n",
      "Nine of Diamonds\n",
      "King of Clubs\n",
      "Queen of Hearts\n",
      "Seven of Clubs\n",
      "Two of Clubs\n",
      "Three of Diamonds\n",
      "Six of Hearts\n",
      "Ace of Diamonds\n",
      "Four of Clubs\n",
      "Seven of Spades\n",
      "Six of Diamonds\n",
      "Two of Hearts\n",
      "Queen of Spades\n",
      "Four of Diamonds\n",
      "Ten of Clubs\n",
      "Two of Spades\n",
      "Two of Diamonds\n",
      "Queen of Diamonds\n",
      "Jack of Hearts\n",
      "Queen of Clubs\n"
     ]
    }
   ],
   "source": [
    "test_deck = Deck()\n",
    "test_deck.shuffle()\n",
    "print(test_deck)"
   ]
  },
  {
   "cell_type": "code",
   "execution_count": 14,
   "metadata": {},
   "outputs": [],
   "source": [
    "# Hand- & Chip Classes"
   ]
  },
  {
   "cell_type": "code",
   "execution_count": 22,
   "metadata": {},
   "outputs": [],
   "source": [
    "class Hand:\n",
    "    def __init__(self):\n",
    "        self.cards = []  # start with an empty list as we did in the Deck class\n",
    "        self.value = 0   # start with zero value\n",
    "        self.aces = 0    # add an attribute to keep track of aces\n",
    "    \n",
    "    def add_card(self,card):\n",
    "        # Card passed in\n",
    "        # from Deck.deal() ---> single Card(suit,rank)\n",
    "        self.cards.append(card)\n",
    "        self.value += values[card.rank]\n",
    "        \n",
    "        # track aces\n",
    "        if card.rank == 'Ace':\n",
    "            self.aces += 1\n",
    "    \n",
    "    def adjust_for_ace(self):\n",
    "        \n",
    "        # IF TOTAL VALUE > 21 AND I STILL HAVE AN ACE \n",
    "        # THAN CHANGE MY ACE TO BE A 1 INSTEAD OF AN 11\n",
    "        while self.value > 21 and self.aces:\n",
    "            self.value -= 10\n",
    "            self.aces -= 1\n",
    "        "
   ]
  },
  {
   "cell_type": "code",
   "execution_count": 20,
   "metadata": {},
   "outputs": [],
   "source": [
    "zero = 0\n",
    "one = 1\n",
    "two = 2"
   ]
  },
  {
   "cell_type": "code",
   "execution_count": 21,
   "metadata": {},
   "outputs": [],
   "source": [
    "if 0:\n",
    "    print('TRUE')"
   ]
  },
  {
   "cell_type": "code",
   "execution_count": 16,
   "metadata": {},
   "outputs": [
    {
     "name": "stdout",
     "output_type": "stream",
     "text": [
      "Ace of Clubs\n",
      "14\n"
     ]
    }
   ],
   "source": [
    "test_deck = Deck()\n",
    "test_deck.shuffle\n",
    "\n",
    "# PLAYER\n",
    "test_player = Hand()\n",
    "# Deal 1 card from the deck CARD(suit,rank)\n",
    "pulled_card = test_deck.deal()\n",
    "print(pulled_card)\n",
    "test_player.add_card(pulled_card)\n",
    "print(test_player.value)"
   ]
  },
  {
   "cell_type": "code",
   "execution_count": 17,
   "metadata": {},
   "outputs": [],
   "source": [
    "test_player.add_card(test_deck.deal())"
   ]
  },
  {
   "cell_type": "code",
   "execution_count": 18,
   "metadata": {},
   "outputs": [
    {
     "data": {
      "text/plain": [
       "27"
      ]
     },
     "execution_count": 18,
     "metadata": {},
     "output_type": "execute_result"
    }
   ],
   "source": [
    "test_player.value"
   ]
  },
  {
   "cell_type": "code",
   "execution_count": 24,
   "metadata": {},
   "outputs": [],
   "source": [
    "class Chips:\n",
    "    \n",
    "    def __init__(self,total=100):\n",
    "        self.total = total  # This can be set to a default value or supplied by a user input\n",
    "        self.bet = 0\n",
    "        \n",
    "    def win_bet(self):\n",
    "        self.total += self.bet\n",
    "    \n",
    "    def lose_bet(self):\n",
    "        self.total -= self.bet"
   ]
  },
  {
   "cell_type": "code",
   "execution_count": 25,
   "metadata": {},
   "outputs": [],
   "source": [
    "# Functions for Game Play"
   ]
  },
  {
   "cell_type": "code",
   "execution_count": 31,
   "metadata": {},
   "outputs": [],
   "source": [
    "def take_bet(chips):\n",
    "    \n",
    "    while True:\n",
    "        \n",
    "        try:\n",
    "            chips.bet = int(input(\"How many chips would you like to place? \"))\n",
    "        except:\n",
    "            print(\"Sorry please provide an integer\")\n",
    "        else:\n",
    "            if chips.bet > chips.total:\n",
    "                print('Sorry you do not have enough chips! You have {}'.format(chips.total))\n",
    "            else:\n",
    "                break     "
   ]
  },
  {
   "cell_type": "code",
   "execution_count": 32,
   "metadata": {},
   "outputs": [],
   "source": [
    "def hit(deck,hand):\n",
    "    \n",
    "    single_card = deck.deal()\n",
    "    hand.add_card(single_card)\n",
    "    hand.adjust_for_ace()"
   ]
  },
  {
   "cell_type": "code",
   "execution_count": 33,
   "metadata": {},
   "outputs": [],
   "source": [
    "def hit_or_stand(deck,hand):\n",
    "    global playing  # to control an upcoming while loop\n",
    "    \n",
    "    while True:\n",
    "        x = input('Hit or stand? Enter h or s ')\n",
    "        \n",
    "        if x[0].lower() == 'h':\n",
    "            hit(deck,hand)\n",
    "            \n",
    "        elif x[0].lower() == 's':\n",
    "            print(\"Player Stands Dealer's Turn\")\n",
    "            playing = False\n",
    "        \n",
    "        else:\n",
    "            print(\"Sorry I did not understand that. Please enter h or s only!\")\n",
    "            continue\n",
    "            \n",
    "        break"
   ]
  },
  {
   "cell_type": "code",
   "execution_count": 34,
   "metadata": {},
   "outputs": [],
   "source": [
    "def show_some(player,dealer):\n",
    "    print(\"\\nDealer's Hand:\")\n",
    "    print(\" <card hidden>\")\n",
    "    print('',dealer.cards[1])  \n",
    "    print(\"\\nPlayer's Hand:\", *player.cards, sep='\\n ')\n",
    "    \n",
    "def show_all(player,dealer):\n",
    "    print(\"\\nDealer's Hand:\", *dealer.cards, sep='\\n ')\n",
    "    print(\"Dealer's Hand =\",dealer.value)\n",
    "    print(\"\\nPlayer's Hand:\", *player.cards, sep='\\n ')\n",
    "    print(\"Player's Hand =\",player.value)"
   ]
  },
  {
   "cell_type": "code",
   "execution_count": 36,
   "metadata": {},
   "outputs": [],
   "source": [
    "def player_busts(player,dealer,chips):\n",
    "    print(\"BUST PLAYER!\")\n",
    "    chips.lose_bet()\n",
    "\n",
    "def player_wins(player,dealer,chips):\n",
    "    print('PLAYER WINS!')\n",
    "    chips.win_bet()\n",
    "\n",
    "def dealer_busts(player,dealer,chips):\n",
    "    print('PLAYER WINS! DEALER BUSTED!')\n",
    "    chips.win_bet()\n",
    "    \n",
    "def dealer_wins(player,dealer,chips):\n",
    "    print(\"DEALER WINS!\")\n",
    "    chips.lose_bet()\n",
    "    \n",
    "def push(player,dealer):\n",
    "    print('Dealer and player tie! PUSH')"
   ]
  },
  {
   "cell_type": "code",
   "execution_count": 38,
   "metadata": {},
   "outputs": [],
   "source": [
    "# Final Gameplay Script"
   ]
  },
  {
   "cell_type": "code",
   "execution_count": 39,
   "metadata": {},
   "outputs": [
    {
     "name": "stdout",
     "output_type": "stream",
     "text": [
      "WELCOME TO BLACKJACK\n",
      "How many chips would you like to place? 300\n",
      "Sorry you do not have enough chips! You have 100\n",
      "How many chips would you like to place? 50\n",
      "\n",
      "Dealer's Hand:\n",
      " <card hidden>\n",
      " Four of Spades\n",
      "\n",
      "Player's Hand:\n",
      " Nine of Clubs\n",
      " Seven of Spades\n",
      "Hit or stand? Enter h or s s\n",
      "Player Stands Dealer's Turn\n",
      "\n",
      "Dealer's Hand:\n",
      " <card hidden>\n",
      " Four of Spades\n",
      "\n",
      "Player's Hand:\n",
      " Nine of Clubs\n",
      " Seven of Spades\n",
      "\n",
      "Dealer's Hand:\n",
      " Nine of Spades\n",
      " Four of Spades\n",
      " Eight of Clubs\n",
      "Dealer's Hand = 21\n",
      "\n",
      "Player's Hand:\n",
      " Nine of Clubs\n",
      " Seven of Spades\n",
      "Player's Hand = 16\n",
      "DEALER WINS!\n",
      "\n",
      " Player total chips are at: 50\n",
      "Would you like to play another hand? y/n? y\n",
      "WELCOME TO BLACKJACK\n",
      "How many chips would you like to place? 100\n",
      "\n",
      "Dealer's Hand:\n",
      " <card hidden>\n",
      " Four of Diamonds\n",
      "\n",
      "Player's Hand:\n",
      " Seven of Clubs\n",
      " Queen of Hearts\n",
      "Hit or stand? Enter h or s s\n",
      "Player Stands Dealer's Turn\n",
      "\n",
      "Dealer's Hand:\n",
      " <card hidden>\n",
      " Four of Diamonds\n",
      "\n",
      "Player's Hand:\n",
      " Seven of Clubs\n",
      " Queen of Hearts\n",
      "\n",
      "Dealer's Hand:\n",
      " Jack of Clubs\n",
      " Four of Diamonds\n",
      " Five of Clubs\n",
      "Dealer's Hand = 20\n",
      "\n",
      "Player's Hand:\n",
      " Seven of Clubs\n",
      " Queen of Hearts\n",
      "Player's Hand = 19\n",
      "DEALER WINS!\n",
      "\n",
      " Player total chips are at: 0\n",
      "Would you like to play another hand? y/n? y\n",
      "WELCOME TO BLACKJACK\n",
      "How many chips would you like to place? 10\n",
      "\n",
      "Dealer's Hand:\n",
      " <card hidden>\n",
      " Six of Diamonds\n",
      "\n",
      "Player's Hand:\n",
      " Nine of Spades\n",
      " King of Diamonds\n",
      "Hit or stand? Enter h or s s\n",
      "Player Stands Dealer's Turn\n",
      "\n",
      "Dealer's Hand:\n",
      " <card hidden>\n",
      " Six of Diamonds\n",
      "\n",
      "Player's Hand:\n",
      " Nine of Spades\n",
      " King of Diamonds\n",
      "BUST PLAYER!\n",
      "\n",
      " Player total chips are at: 90\n",
      "Would you like to play another hand? y/n? n\n",
      "Thank you for playing!\n"
     ]
    }
   ],
   "source": [
    "while True:\n",
    "    # Print an opening statement\n",
    "    \n",
    "    print(\"WELCOME TO BLACKJACK\")    \n",
    "    # Create & shuffle the deck, deal two cards to each player\n",
    "    deck = Deck()\n",
    "    deck.shuffle()\n",
    "    \n",
    "    player_hand = Hand()\n",
    "    player_hand.add_card(deck.deal())\n",
    "    player_hand.add_card(deck.deal())\n",
    "    \n",
    "    dealer_hand = Hand()\n",
    "    dealer_hand.add_card(deck.deal())\n",
    "    dealer_hand.add_card(deck.deal())\n",
    "    \n",
    "    # Set up the Player's chips\n",
    "    player_chips = Chips()\n",
    "    \n",
    "    \n",
    "    # Prompt the Player for their bet\n",
    "    take_bet(player_chips)\n",
    "    \n",
    "    # Show cards (but keep one dealer card hidden)\n",
    "    show_some(player_hand,dealer_hand)\n",
    "    \n",
    "    while playing:  # recall this variable from our hit_or_stand function\n",
    "        \n",
    "        # Prompt for Player to Hit or Stand\n",
    "        hit_or_stand(deck,player_hand)\n",
    "        \n",
    "        # Show cards (but keep one dealer card hidden)\n",
    "        show_some(player_hand,dealer_hand)\n",
    "        \n",
    "        # If player's hand exceeds 21, run player_busts() and break out of loop\n",
    "        if player_hand.value > 21:\n",
    "            player_busts(player_hand,dealer_hand,player_chips)\n",
    "\n",
    "            break\n",
    "\n",
    "    # If Player hasn't busted, play Dealer's hand until Dealer reaches 17\n",
    "    if player_hand.value <= 21:\n",
    "        \n",
    "        while dealer_hand.value < player_hand.value:\n",
    "            hit(deck,dealer_hand)\n",
    "    \n",
    "        # Show all cards\n",
    "        show_all(player_hand,dealer_hand)\n",
    "    \n",
    "        # Run different winning scenarios\n",
    "        if dealer_hand.value > 21:\n",
    "            dealer_busts(player_hand,dealer_hand,player_chips)\n",
    "        elif dealer_hand.value > player_hand.value:\n",
    "            dealer_wins(player_hand,dealer_hand,player_chips)\n",
    "        elif dealer_hand.value < player_hand.value:\n",
    "            player_wins(player_hand,dealer_hand,player_chips)\n",
    "        else:\n",
    "            push(player_hand,dealer_hand)\n",
    "    \n",
    "    # Inform Player of their chips total \n",
    "    print('\\n Player total chips are at: {}'.format(player_chips.total))\n",
    "    # Ask to play again\n",
    "    new_game = input(\"Would you like to play another hand? y/n? \")\n",
    "    \n",
    "    if new_game[0].lower() == 'y':\n",
    "        playing = True\n",
    "        continue\n",
    "    else:\n",
    "        print('Thank you for playing!')    \n",
    "        \n",
    "        break"
   ]
  },
  {
   "cell_type": "code",
   "execution_count": null,
   "metadata": {},
   "outputs": [],
   "source": []
  }
 ],
 "metadata": {
  "kernelspec": {
   "display_name": "Python 3",
   "language": "python",
   "name": "python3"
  },
  "language_info": {
   "codemirror_mode": {
    "name": "ipython",
    "version": 3
   },
   "file_extension": ".py",
   "mimetype": "text/x-python",
   "name": "python",
   "nbconvert_exporter": "python",
   "pygments_lexer": "ipython3",
   "version": "3.8.3"
  }
 },
 "nbformat": 4,
 "nbformat_minor": 4
}
